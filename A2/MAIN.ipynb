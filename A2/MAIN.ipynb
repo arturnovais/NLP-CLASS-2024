{
 "nbformat": 4,
 "nbformat_minor": 0,
 "metadata": {
  "colab": {
   "provenance": []
  },
  "kernelspec": {
   "name": "python3",
   "display_name": "Python 3 (ipykernel)",
   "language": "python"
  },
  "language_info": {
   "name": "python"
  }
 },
 "cells": [
  {
   "cell_type": "markdown",
   "source": [
    "# Processamento de Linguagem Natural (NLP)\n",
    "\n",
    "Professor: Arlindo Galvão\n",
    "\n",
    "Data: 09/09/2024\n",
    "\n",
    "## Cronograma\n",
    "\n",
    "* Implemente diversos tipos de atenção"
   ],
   "metadata": {
    "id": "YRpaWjF1HCyJ"
   }
  },
  {
   "cell_type": "markdown",
   "source": [
    "### **Implementando RNN Seq2Seq sem atenção**"
   ],
   "metadata": {
    "id": "8agwdY-DKXo2"
   }
  },
  {
   "cell_type": "code",
   "source": [
    "import torch\n",
    "from torch import nn\n",
    "import torch.nn.functional as F\n",
    "import torch.optim as optim\n",
    "import numpy as np\n",
    "import seaborn as sns\n",
    "import random"
   ],
   "metadata": {
    "id": "uee6_5s1Gm9k",
    "ExecuteTime": {
     "end_time": "2024-09-25T03:35:54.687659Z",
     "start_time": "2024-09-25T03:35:54.681287Z"
    }
   },
   "execution_count": 67,
   "outputs": []
  },
  {
   "cell_type": "markdown",
   "source": [
    "**Teremos 4 classes principais:**\n",
    "- **Tokenizer:** mapeia nosso input textual para o input do modelo;\n",
    "- **Encoder:** realiza o encoding do input;\n",
    "- **Decoder:** realiza a decodificação a partir do hidden state anterior (com a possibilidade de attention);\n",
    "- **Seq2seq:** encapsula nosso Encoder e nosso Decoder, e transforma do espaço latente para o token id."
   ],
   "metadata": {
    "id": "zYUm7YJ81QL-"
   }
  },
  {
   "cell_type": "markdown",
   "source": [
    "**Tokenizer:** Aqui que iremos trabalhar com nossos dados de entrada. Todos os tratamentos iremos fazer por meio desta classe."
   ],
   "metadata": {
    "id": "kykwtGtSNQ6z"
   }
  },
  {
   "cell_type": "code",
   "source": [
    "class Tokenizer():\n",
    "    def __init__(self):\n",
    "        self.tokens_special = [\"<sos>\", \"<eos>\", \"<oov>\",]\n",
    "        self.vocab_input = self.tokens_special[:]\n",
    "        self.vocab_output = self.tokens_special[:]\n",
    "        self.len_vocab_input = len(self.vocab_input)\n",
    "        self.len_vocab_output = len(self.vocab_output)\n",
    "\n",
    "        self.SOS_ID = self.tokens_special.index(\"<sos>\") # start of sentence\n",
    "        self.EOS_ID = self.tokens_special.index(\"<eos>\") # end of sentence\n",
    "        self.OOV_ID = self.tokens_special.index(\"<oov>\") # out of vocabulary\n",
    "\n",
    "\n",
    "    def add_input_vocab(self, tokens):\n",
    "        # Caso passe uma frase, o split tokenizará por espaços\n",
    "        if type(tokens) == str:\n",
    "            tokens = tokens.split()\n",
    "        for token in tokens:\n",
    "            if token not in self.vocab_input:\n",
    "                self.vocab_input.append(token)\n",
    "        self.len_vocab_input = len(self.vocab_input)\n",
    "\n",
    "\n",
    "    def add_output_vocab(self, tokens):\n",
    "        # Caso passe uma frase, o split tokenizará por espaços\n",
    "        if type(tokens) == str:\n",
    "            tokens = tokens.split()\n",
    "        for token in tokens:\n",
    "            if token not in self.vocab_output:\n",
    "                self.vocab_output.append(token)\n",
    "        self.len_vocab_output = len(self.vocab_output)\n",
    "\n",
    "\n",
    "    def tokens2inputs_id(self, tokens):\n",
    "        # Caso passe uma frase, o split tokenizará por espaços\n",
    "        if type(tokens) == str:\n",
    "            tokens = tokens.split()\n",
    "\n",
    "        inputs_id = [self.SOS_ID]\n",
    "\n",
    "        for token in tokens:\n",
    "            if token in self.vocab_input:\n",
    "                inputs_id.append(self.vocab_input.index(token))\n",
    "            else:\n",
    "                inputs_id.append(self.OOV_ID)\n",
    "        return torch.tensor(inputs_id)\n",
    "\n",
    "\n",
    "    def tokens2outputs_id(self, tokens):\n",
    "        outputs_id = []\n",
    "        for token in tokens:\n",
    "            if token in self.vocab_output:\n",
    "                outputs_id.append(self.vocab_output.index(token))\n",
    "            else:\n",
    "                outputs_id.append(self.OOV_ID)\n",
    "        outputs_id.append(self.EOS_ID)\n",
    "        return torch.tensor(outputs_id)\n",
    "\n",
    "\n",
    "    def outputs_id2text(self, outputs_id):\n",
    "        if type(outputs_id) == int:\n",
    "            outputs_id = [outputs_id]\n",
    "        text = \"\"\n",
    "        for id in outputs_id:\n",
    "            text += self.vocab_output[id]\n",
    "        return text"
   ],
   "metadata": {
    "id": "5VbXP4eKmlO8",
    "ExecuteTime": {
     "end_time": "2024-09-25T02:42:17.188797Z",
     "start_time": "2024-09-25T02:42:17.182568Z"
    }
   },
   "execution_count": 2,
   "outputs": []
  },
  {
   "cell_type": "markdown",
   "source": [
    "**Encoder:** Aqui que ocorrerá o processamento do nosso input."
   ],
   "metadata": {
    "id": "5lu6LJZRNWnt"
   }
  },
  {
   "cell_type": "code",
   "source": [
    "class Encoder(nn.Module):\n",
    "    def __init__(self, input_vocab_size, emb_dim, hidden_dim, n_layers, dropout):\n",
    "        super(Encoder, self).__init__()\n",
    "        self.embedding = nn.Embedding(input_vocab_size, emb_dim)\n",
    "        self.rnn = nn.RNN(emb_dim, hidden_dim, n_layers, dropout=dropout)\n",
    "        self.dropout = nn.Dropout(dropout)\n",
    "\n",
    "    def forward(self, src):\n",
    "        embedded = self.dropout(self.embedding(src))\n",
    "        outputs, hidden = self.rnn(embedded)\n",
    "        return outputs, hidden"
   ],
   "metadata": {
    "id": "itr1yZpj0oeg",
    "ExecuteTime": {
     "end_time": "2024-09-25T02:42:17.192890Z",
     "start_time": "2024-09-25T02:42:17.189567Z"
    }
   },
   "execution_count": 3,
   "outputs": []
  },
  {
   "cell_type": "markdown",
   "source": [
    "**Decoder:** A partir das representações geradas pelo Encoder, nós iremos gerar nosso output utilizando esta classe.\n",
    "\n",
    "> OBS: Ao utilizar esta classe com use_attention=True, estamos concatenando o attention ao embedding do token, e não ao hidden state."
   ],
   "metadata": {
    "id": "pFgaDAOHNhSy"
   }
  },
  {
   "cell_type": "code",
   "source": [
    "class Decoder(nn.Module):\n",
    "    def __init__(self, output_vocab_size, emb_dim, hidden_dim, n_layers, dropout, use_attention=False):\n",
    "        super(Decoder, self).__init__()\n",
    "        self.output_vocab_size = output_vocab_size\n",
    "        self.embedding = nn.Embedding(output_vocab_size, emb_dim)\n",
    "        self.use_attention = use_attention\n",
    "        if self.use_attention:\n",
    "            self.rnn = nn.RNN(emb_dim + hidden_dim, hidden_dim, n_layers, dropout=dropout)\n",
    "        else:\n",
    "            self.rnn = nn.RNN(emb_dim, hidden_dim, n_layers, dropout=dropout)\n",
    "\n",
    "        self.dropout = nn.Dropout(dropout)\n",
    "\n",
    "\n",
    "    def forward(self, input, hidden, attention=None):\n",
    "        embedded = self.dropout(self.embedding(input))\n",
    "        if self.use_attention:\n",
    "            embedded = torch.cat((embedded, attention), dim=1)\n",
    "\n",
    "        output, hidden = self.rnn(embedded, hidden)\n",
    "\n",
    "        return output, hidden"
   ],
   "metadata": {
    "id": "ER2NTZuG1PYe",
    "ExecuteTime": {
     "end_time": "2024-09-25T02:42:17.834005Z",
     "start_time": "2024-09-25T02:42:17.829331Z"
    }
   },
   "execution_count": 4,
   "outputs": []
  },
  {
   "cell_type": "markdown",
   "source": [
    "**Seq2Seq:** Esta classe vai encapsular nosso Encoder e nosso Decoder, realizando o fluxo do nosso modelo. Também é nela que ocorrerá a linear + softmax para obter a distribuição de probabilidade de tokens."
   ],
   "metadata": {
    "id": "tZXueJ77NqIn"
   }
  },
  {
   "cell_type": "code",
   "source": [
    "class Seq2Seq(nn.Module):\n",
    "    def __init__(self, input_vocab_size, output_vocab_size, emb_dim, hidden_dim, n_layers, dropout, sos_id=0, eos_id=1):\n",
    "        super(Seq2Seq, self).__init__()\n",
    "        self.encoder = Encoder(input_vocab_size, emb_dim, hidden_dim, n_layers, dropout)\n",
    "        self.decoder = Decoder(output_vocab_size, emb_dim, hidden_dim, n_layers, dropout)\n",
    "\n",
    "        self.fc_out = nn.Linear(hidden_dim, output_vocab_size)\n",
    "\n",
    "\n",
    "    def forward(self, inputs_id_encoder=None, input_id_decoder=None, decoder_hidden_state=None):\n",
    "        if decoder_hidden_state is None:\n",
    "            encoder_hidden_states, decoder_hidden_state = self.encoder(inputs_id_encoder)\n",
    "        output, hidden = self.decoder(input_id_decoder, decoder_hidden_state)\n",
    "        output = self.fc_out(output)\n",
    "        output_distribution = F.softmax(output, dim=1)\n",
    "        return output_distribution, hidden"
   ],
   "metadata": {
    "id": "PqwpJXIJvzGp",
    "ExecuteTime": {
     "end_time": "2024-09-25T02:42:18.392255Z",
     "start_time": "2024-09-25T02:42:18.387796Z"
    }
   },
   "execution_count": 5,
   "outputs": []
  },
  {
   "cell_type": "markdown",
   "source": [
    "Agora, vamos configurar e utilizar nosso modelo"
   ],
   "metadata": {
    "id": "tcGTq8zXOHwX"
   }
  },
  {
   "cell_type": "code",
   "source": [
    "EMB_DIM = 16\n",
    "HIDDEN_DIM = 16\n",
    "N_LAYERS = 1\n",
    "DROPOUT = 0.0\n",
    "MAX_STEPS = 10\n",
    "\n",
    "tokenizer = Tokenizer()\n",
    "inputs = [\"a\", \"b\", \"c\", \"d\"]\n",
    "outputs = [\"1\", \"2\", \"3\", \"4\"]\n",
    "tokenizer.add_input_vocab(inputs)\n",
    "tokenizer.add_output_vocab(outputs)"
   ],
   "metadata": {
    "id": "F_pkHHicqXdO",
    "ExecuteTime": {
     "end_time": "2024-09-25T02:42:18.859723Z",
     "start_time": "2024-09-25T02:42:18.855684Z"
    }
   },
   "execution_count": 6,
   "outputs": []
  },
  {
   "cell_type": "code",
   "source": [
    "model = Seq2Seq(tokenizer.len_vocab_input, tokenizer.len_vocab_output, EMB_DIM, HIDDEN_DIM, N_LAYERS, DROPOUT)\n",
    "# Vamos printar nossa arquitetura, veremos que possui um encoder, um decoder e uma linear ao final\n",
    "print(model)"
   ],
   "metadata": {
    "colab": {
     "base_uri": "https://localhost:8080/"
    },
    "id": "Vh-lO15W1a01",
    "outputId": "58ff5887-ba86-4b57-ea61-4268804ea82f",
    "ExecuteTime": {
     "end_time": "2024-09-25T02:42:19.100556Z",
     "start_time": "2024-09-25T02:42:19.095351Z"
    }
   },
   "execution_count": 7,
   "outputs": []
  },
  {
   "cell_type": "code",
   "source": [
    "input = \"a b c d\"\n",
    "enc_inp = tokenizer.tokens2inputs_id(input)\n",
    "hidden_state = None\n",
    "token_id = torch.tensor([tokenizer.SOS_ID])\n",
    "outputs_ids = []\n",
    "\n",
    "for i in range(MAX_STEPS):\n",
    "    output_distribution, hidden_state = model(enc_inp, token_id, hidden_state)\n",
    "    token_id = torch.argmax(output_distribution, dim=1)  # shape = (1, 1)\n",
    "    outputs_ids.append(token_id.item())\n",
    "    if token_id.item() == tokenizer.EOS_ID:\n",
    "        break\n",
    "\n",
    "print(f\"Entrada: {input}\")\n",
    "print(f\"Saída: {tokenizer.outputs_id2text(outputs_ids)}\")"
   ],
   "metadata": {
    "colab": {
     "base_uri": "https://localhost:8080/"
    },
    "id": "uW1t6-SjuqT1",
    "outputId": "6462ec42-fe08-4c48-8762-ec2e128adb41",
    "ExecuteTime": {
     "end_time": "2024-09-25T02:42:19.394102Z",
     "start_time": "2024-09-25T02:42:19.388782Z"
    }
   },
   "execution_count": 8,
   "outputs": []
  },
  {
   "cell_type": "markdown",
   "source": [
    "Como nosso modelo ainda não foi treinado, é esperado que sua saída seja aleatória. Como não removemos nenhum token especial, também é possível que sua saída possua tokens especiais (como o token \\<sos\\> em posições além do começo da sentença)."
   ],
   "metadata": {
    "id": "z_ibVsigON63"
   }
  },
  {
   "cell_type": "markdown",
   "source": [
    "#### **IMPLEMENTANDO O TREINAMENTO**\n",
    "\n",
    "Abaixo está o código que realiza o treinamento do modelo. Neste exemplo, estamos mapeando modelo para traduzir cada letra para seu correspondente numérico (a:1, b:2, c:3, d:4, e:5)\n",
    "\n",
    "\n",
    "Ex.\n",
    "> Input: [\"a\", \"b\", \"c\", \"d\", \"e\"]<br>\n",
    "> Output: \"1 2 3 4 5\""
   ],
   "metadata": {
    "id": "XLacBVlLxzcK"
   }
  },
  {
   "cell_type": "code",
   "source": [
    "# Instanciando o Tokenizer\n",
    "tokenizer = Tokenizer()\n",
    "\n",
    "# Adiciona as letras ao vocabulário do Tokenizer\n",
    "inputs = [\"a\", \"b\", \"c\", \"d\", \"e\"]\n",
    "outputs = [str(i+1) for i, _ in enumerate(inputs)] # Mapeando letras para números como strings\n",
    "\n",
    "tokenizer.add_input_vocab(inputs)\n",
    "tokenizer.add_output_vocab(outputs)\n",
    "\n",
    "def get_random_sample():\n",
    "    num_char_input = np.random.randint(1,4) # vamos escolher aleatoriamente entre 1 e 3 char para input (pode ser a, ab, abc)\n",
    "    sampled_indices = np.random.randint(len(tokenizer.tokens_special), tokenizer.len_vocab_input, num_char_input) # vamos escolher nossos caracteres aleatoriamente, mas sem escolher tokens especiais\n",
    "    sampled_inputs = [tokenizer.vocab_input[i] for i in sampled_indices]\n",
    "    sampled_outputs = [tokenizer.vocab_output[i] for i in sampled_indices]\n",
    "    return sampled_inputs, sampled_outputs  # Repare que o join do input nao tem espaço e o do output tem, pois vamos querer que ele gere também os espaços."
   ],
   "metadata": {
    "id": "6cdBRTKNm1EG",
    "ExecuteTime": {
     "end_time": "2024-09-25T02:42:20.264816Z",
     "start_time": "2024-09-25T02:42:20.259432Z"
    }
   },
   "execution_count": 9,
   "outputs": []
  },
  {
   "cell_type": "code",
   "source": [
    "# Definir parâmetros\n",
    "input_vocab_size = tokenizer.len_vocab_input\n",
    "output_vocab_size = tokenizer.len_vocab_output\n",
    "emb_dim = 32\n",
    "hidden_dim = 32\n",
    "n_layers = 2\n",
    "dropout = 0.2\n",
    "learning_rate = 0.001\n",
    "num_steps = 5000\n",
    "\n",
    "# Instanciar o modelo\n",
    "model = Seq2Seq(input_vocab_size, output_vocab_size, emb_dim, hidden_dim, n_layers, dropout)"
   ],
   "metadata": {
    "id": "TKZAVGWHyLv0",
    "ExecuteTime": {
     "end_time": "2024-09-25T02:42:20.535057Z",
     "start_time": "2024-09-25T02:42:20.530795Z"
    }
   },
   "execution_count": 10,
   "outputs": []
  },
  {
   "cell_type": "code",
   "source": [
    "# Função de perda e otimizador\n",
    "criterion = nn.CrossEntropyLoss()\n",
    "optimizer = optim.Adam(model.parameters(), lr=learning_rate)\n",
    "\n",
    "# Função de treino\n",
    "def train(model, tokenizer, criterion, optimizer, num_steps):\n",
    "    history = {'total_steps': 0, 'loss': []}\n",
    "    model.train()\n",
    "\n",
    "    for step in range(num_steps):\n",
    "        optimizer.zero_grad()\n",
    "\n",
    "        # Exemplo de entrada e saída\n",
    "        input_text, output_text = get_random_sample()\n",
    "\n",
    "        # Converte o texto de entrada e saída para IDs\n",
    "        inputs_id = tokenizer.tokens2inputs_id(input_text)\n",
    "        output_target_id = tokenizer.tokens2outputs_id(output_text)\n",
    "        input_id_decoder = torch.tensor([tokenizer.SOS_ID])\n",
    "\n",
    "        # Forward pass\n",
    "        loss = 0\n",
    "        decoder_hidden_state = None\n",
    "        for target_id in output_target_id:\n",
    "            output_distribution, decoder_hidden_state = model(inputs_id_encoder=inputs_id,\n",
    "                                                              input_id_decoder=input_id_decoder,\n",
    "                                                              decoder_hidden_state=decoder_hidden_state)\n",
    "\n",
    "            result_tensor = torch.zeros(tokenizer.len_vocab_output, dtype=torch.float)\n",
    "            result_tensor[target_id] = 1\n",
    "\n",
    "            # Calcula a perda, Cross Entropy entre predições e targets (precisamos do unsqueeze para adicionar a dimensão do batch no nosso result_tensor)\n",
    "            loss += criterion(output_distribution, result_tensor.unsqueeze(0))\n",
    "\n",
    "            # O próximo input do decoder será o token gerado pelo decoder atual\n",
    "            input_id_decoder = torch.argmax(output_distribution, dim=1)\n",
    "\n",
    "        # Salvando o historico de informações sobre o treinamento\n",
    "        history['loss'].append(loss.item())\n",
    "        history['total_steps'] += 1\n",
    "\n",
    "        # Backpropagation\n",
    "        loss.backward()\n",
    "        optimizer.step()\n",
    "\n",
    "        if step % 250 == 0:\n",
    "            print(f'Epoch {step}/{num_steps}, Loss: {loss.item():.4f}')\n",
    "    return history\n",
    "\n",
    "# Treinar o modelo\n",
    "history = train(model, tokenizer, criterion, optimizer, num_steps)"
   ],
   "metadata": {
    "colab": {
     "base_uri": "https://localhost:8080/"
    },
    "id": "TcEiJElndfuI",
    "outputId": "cc5dc927-303a-460e-912c-8988bd476cda",
    "ExecuteTime": {
     "end_time": "2024-09-25T02:42:27.474627Z",
     "start_time": "2024-09-25T02:42:20.809060Z"
    }
   },
   "execution_count": 11,
   "outputs": []
  },
  {
   "cell_type": "code",
   "source": [
    "import matplotlib.pyplot as plt\n",
    "\n",
    "def plot_loss(history):\n",
    "    plt.figure(figsize=(10, 6))\n",
    "    # Vamos fazer uma média para tentar lidar melhor com outliers (loss muito alta em meio à losses baixar ou vice-versa)\n",
    "    mean_steps = 20\n",
    "    mean_loss_n_steps = [sum(history['loss'][i:i+mean_steps])/mean_steps for i in range(0,history['total_steps'],mean_steps)]\n",
    "    plt.plot(list(range(0,history['total_steps'],mean_steps)), mean_loss_n_steps)\n",
    "\n",
    "    plt.title('Loss Curve')\n",
    "    plt.xlabel('Step')\n",
    "    plt.ylabel('Loss')\n",
    "    plt.grid(True)\n",
    "    plt.show()"
   ],
   "metadata": {
    "id": "wTQxfdp77oJE",
    "ExecuteTime": {
     "end_time": "2024-09-25T02:42:27.764992Z",
     "start_time": "2024-09-25T02:42:27.475639Z"
    }
   },
   "execution_count": 12,
   "outputs": []
  },
  {
   "cell_type": "code",
   "source": [
    "plot_loss(history)"
   ],
   "metadata": {
    "colab": {
     "base_uri": "https://localhost:8080/",
     "height": 564
    },
    "id": "-MusdYI5zxeZ",
    "outputId": "a99a63f9-3cb9-45e6-e7e3-c1871aa25431",
    "ExecuteTime": {
     "end_time": "2024-09-25T02:42:27.858504Z",
     "start_time": "2024-09-25T02:42:27.765629Z"
    }
   },
   "execution_count": 13,
   "outputs": []
  },
  {
   "cell_type": "markdown",
   "source": [
    "Testando com inputs:"
   ],
   "metadata": {
    "id": "1QXkelXbBPLg"
   }
  },
  {
   "cell_type": "code",
   "source": [
    "input = [\"a\", \"c\"]\n",
    "enc_inp = tokenizer.tokens2inputs_id(input)\n",
    "hidden_state = None\n",
    "token_id = torch.tensor([tokenizer.SOS_ID])\n",
    "outputs_ids = []\n",
    "\n",
    "for i in range(MAX_STEPS):\n",
    "    output_distribution, hidden_state = model(enc_inp, token_id, hidden_state)\n",
    "    token_id = torch.argmax(output_distribution, dim=1)  # shape = (1, 1)\n",
    "    outputs_ids.append(token_id.item())\n",
    "    if token_id.item() == tokenizer.EOS_ID:\n",
    "        break\n",
    "\n",
    "print(f\"Entrada: {' - '.join(input)}\")\n",
    "print(f\"Saída: {' - '.join([tokenizer.outputs_id2text(outputs_ids[i]) for i in range(len(outputs_ids))])}\")"
   ],
   "metadata": {
    "colab": {
     "base_uri": "https://localhost:8080/"
    },
    "id": "aMCkizMp77r5",
    "outputId": "876c73d9-7bda-4764-9abb-2f81f7262173",
    "ExecuteTime": {
     "end_time": "2024-09-25T02:42:27.866057Z",
     "start_time": "2024-09-25T02:42:27.859829Z"
    }
   },
   "execution_count": 14,
   "outputs": []
  },
  {
   "cell_type": "markdown",
   "source": [
    "Parece que nosso modelo aprendeu algo :)"
   ],
   "metadata": {
    "id": "8cwrJndxFol4"
   }
  },
  {
   "cell_type": "markdown",
   "source": [
    "#### **Teste!**\n",
    "Brinque com os parâmetros, dados de input e output, e teste o modelo. Entenda o que está acontecendo.\n",
    "\n",
    "Exemplo: Como ele se comportaria caso tentassemos fazer com todo o alfabeto? E se mudassemos a quantidade máxima de tokens que o encoder é treinado?"
   ],
   "metadata": {
    "id": "R35euJ3_A27c"
   }
  },
  {
   "metadata": {},
   "cell_type": "markdown",
   "source": "1º Teste: Adicionar algumas letras ao alfabeto"
  },
  {
   "metadata": {
    "ExecuteTime": {
     "end_time": "2024-09-25T02:44:41.983120Z",
     "start_time": "2024-09-25T02:44:41.975690Z"
    }
   },
   "cell_type": "code",
   "source": [
    "tokenizer = Tokenizer()\n",
    "\n",
    "inputs = [\n",
    "    \"a\", \"b\", \"c\", \"d\", \"e\", \"f\", \"g\", \"h\", \"i\", \"j\", \"k\", \"l\", \"m\",\n",
    "]\n",
    "outputs = [str(i+1) for i, _ in enumerate(inputs)]\n",
    "\n",
    "tokenizer.add_input_vocab(inputs)\n",
    "tokenizer.add_output_vocab(outputs)\n",
    "\n",
    "def get_random_sample():\n",
    "    num_char_input = np.random.randint(1,4)\n",
    "    sampled_indices = np.random.randint(len(tokenizer.tokens_special), tokenizer.len_vocab_input, num_char_input)\n",
    "    sampled_inputs = [tokenizer.vocab_input[i] for i in sampled_indices]\n",
    "    sampled_outputs = [tokenizer.vocab_output[i] for i in sampled_indices]\n",
    "    return sampled_inputs, sampled_outputs"
   ],
   "execution_count": 16,
   "outputs": []
  },
  {
   "metadata": {
    "ExecuteTime": {
     "end_time": "2024-09-25T02:45:12.199613Z",
     "start_time": "2024-09-25T02:45:12.197045Z"
    }
   },
   "cell_type": "code",
   "source": "sampled_inputs, sampled_outputs = get_random_sample()",
   "execution_count": 18,
   "outputs": []
  },
  {
   "metadata": {
    "ExecuteTime": {
     "end_time": "2024-09-25T02:45:12.351013Z",
     "start_time": "2024-09-25T02:45:12.348444Z"
    }
   },
   "cell_type": "code",
   "source": "sampled_inputs, sampled_outputs",
   "execution_count": 19,
   "outputs": []
  },
  {
   "metadata": {
    "ExecuteTime": {
     "end_time": "2024-09-25T02:47:37.768443Z",
     "start_time": "2024-09-25T02:47:37.761411Z"
    }
   },
   "cell_type": "code",
   "source": [
    "input_vocab_size = tokenizer.len_vocab_input\n",
    "output_vocab_size = tokenizer.len_vocab_output\n",
    "emb_dim = 64\n",
    "hidden_dim = 128\n",
    "n_layers = 4\n",
    "dropout = 0.2\n",
    "learning_rate = 0.0001\n",
    "num_steps = 50000\n",
    "\n",
    "model = Seq2Seq(input_vocab_size, output_vocab_size, emb_dim, hidden_dim, n_layers, dropout)"
   ],
   "execution_count": 30,
   "outputs": []
  },
  {
   "metadata": {
    "ExecuteTime": {
     "end_time": "2024-09-25T02:50:20.174543Z",
     "start_time": "2024-09-25T02:47:37.891223Z"
    }
   },
   "cell_type": "code",
   "source": [
    "criterion = nn.CrossEntropyLoss()\n",
    "optimizer = optim.Adam(model.parameters(), lr=learning_rate)\n",
    "history = train(model, tokenizer, criterion, optimizer, num_steps)"
   ],
   "execution_count": 31,
   "outputs": []
  },
  {
   "metadata": {
    "ExecuteTime": {
     "end_time": "2024-09-25T02:50:20.268770Z",
     "start_time": "2024-09-25T02:50:20.176421Z"
    }
   },
   "cell_type": "code",
   "source": "plot_loss(history)",
   "execution_count": 32,
   "outputs": []
  },
  {
   "metadata": {
    "ExecuteTime": {
     "end_time": "2024-09-25T04:15:42.113635Z",
     "start_time": "2024-09-25T04:15:42.088741Z"
    }
   },
   "cell_type": "code",
   "source": [
    "def test_model(model, tokenizer_model, input):\n",
    "    enc_inp = tokenizer_model.tokens2inputs_id(input)\n",
    "    hidden_state = None\n",
    "    token_id = torch.tensor([tokenizer_model.SOS_ID])\n",
    "    outputs_ids = []\n",
    "\n",
    "    for i in range(MAX_STEPS):\n",
    "        output_distribution, hidden_state = model(enc_inp, token_id, hidden_state)\n",
    "        token_id = torch.argmax(output_distribution, dim=1)  # shape = (1, 1)\n",
    "        outputs_ids.append(token_id.item())\n",
    "        if token_id.item() == tokenizer_model.EOS_ID:\n",
    "            break\n",
    "\n",
    "    print(f\"Entrada: {' - '.join(input)}\")\n",
    "    print(f\"Saída: {' - '.join([tokenizer_model.outputs_id2text(outputs_ids[i]) for i in range(len(outputs_ids))])}\")"
   ],
   "execution_count": 188,
   "outputs": []
  },
  {
   "metadata": {
    "ExecuteTime": {
     "end_time": "2024-09-25T02:50:20.285329Z",
     "start_time": "2024-09-25T02:50:20.278658Z"
    }
   },
   "cell_type": "code",
   "source": "test_model(model, tokenizer, [\"b\", \"a\", \"c\"])",
   "execution_count": 34,
   "outputs": []
  },
  {
   "metadata": {},
   "cell_type": "markdown",
   "source": [
    "Percebi que:\n",
    "Temos que reinstanciar o otimizador para que o modelo treine na célula de teste. Além disso, aumentar o vocabulário torna necessário aumentar o número de steps para que o modelo aprenda, para 5000 steps (como treinado no anterior) não funcionou bem. Outro ponto, é que fizemos o modelo ser treinado com sequências de tamanho máximo igual a 3. Com isso, não otimizamos a produção de um hidden_state representativo para sequências maiores, e assim, se testado em uma sequência maior, dificilmente irá funcionar bem."
   ]
  },
  {
   "metadata": {},
   "cell_type": "markdown",
   "source": "2º Teste: Alfabeto completo"
  },
  {
   "metadata": {
    "ExecuteTime": {
     "end_time": "2024-09-25T02:50:20.292088Z",
     "start_time": "2024-09-25T02:50:20.286632Z"
    }
   },
   "cell_type": "code",
   "source": [
    "tokenizer = Tokenizer()\n",
    "\n",
    "inputs = [\n",
    "    \"a\", \"b\", \"c\", \"d\", \"e\", \"f\", \"g\", \"h\", \"i\", \"j\", \"k\", \"l\", \"m\",\n",
    "    \"n\", \"o\", \"p\", \"q\", \"r\", \"s\", \"t\", \"u\", \"v\", \"w\", \"x\", \"y\", \"z\"\n",
    "]\n",
    "\n",
    "outputs = [str(i+1) for i, _ in enumerate(inputs)]\n",
    "\n",
    "tokenizer.add_input_vocab(inputs)\n",
    "tokenizer.add_output_vocab(outputs)\n",
    "input_vocab_size = tokenizer.len_vocab_input\n",
    "output_vocab_size = tokenizer.len_vocab_output\n",
    "emb_dim = 32\n",
    "hidden_dim = 32\n",
    "n_layers = 2\n",
    "dropout = 0.2\n",
    "learning_rate = 0.001\n",
    "num_steps = 5000\n",
    "\n",
    "model = Seq2Seq(input_vocab_size, output_vocab_size, emb_dim, hidden_dim, n_layers, dropout)"
   ],
   "execution_count": 35,
   "outputs": []
  },
  {
   "metadata": {
    "ExecuteTime": {
     "end_time": "2024-09-25T02:50:26.686816Z",
     "start_time": "2024-09-25T02:50:20.293289Z"
    }
   },
   "cell_type": "code",
   "source": [
    "# Função de perda e otimizador\n",
    "criterion = nn.CrossEntropyLoss()\n",
    "optimizer = optim.Adam(model.parameters(), lr=learning_rate)\n",
    "\n",
    "history = train(model, tokenizer, criterion, optimizer, num_steps)"
   ],
   "execution_count": 36,
   "outputs": []
  },
  {
   "metadata": {
    "ExecuteTime": {
     "end_time": "2024-09-25T02:50:33.101771Z",
     "start_time": "2024-09-25T02:50:32.996145Z"
    }
   },
   "cell_type": "code",
   "source": "plot_loss(history)",
   "execution_count": 37,
   "outputs": []
  },
  {
   "metadata": {
    "ExecuteTime": {
     "end_time": "2024-09-25T02:57:04.247305Z",
     "start_time": "2024-09-25T02:57:04.243295Z"
    }
   },
   "cell_type": "code",
   "source": "test_model(model, tokenizer, [\"a\", \"b\", \"b\"])",
   "execution_count": 40,
   "outputs": []
  },
  {
   "cell_type": "markdown",
   "source": [
    "---"
   ],
   "metadata": {
    "id": "m05ULkSPILTa"
   }
  },
  {
   "cell_type": "markdown",
   "source": [
    "## **ATIVIDADE**\n",
    "\n",
    "#### **INSTRUÇÕES**\n",
    "\n",
    "- **FOQUE EM ALTERAR APENAS A CLASSE Seq2Seq.** Caso necessário, faça alterações mínimas nas outras partes do código e documente a motivação. A ideia não é reestruturar o código, mas complementá-lo. <br><br>\n",
    "- **DOCUMENTE SEU PASSO A PASSO POR MEIO DE CÉLULAS DE TEXTO.** Não utilize de grandes comentários no seu código. Utilize das ferramentas do markdown para fazer comentários, destacar, colar imagens, etc. para documentar seus avanços.<br><br>\n",
    "- **NÃO EXCLUA OS OUTPUTS.** Ao entregar este notebook, não exclua o output final das células, mantenha os resultados, loss, gráficos e o que julgar necessário para entendimento do seu progresso.<br><br>\n",
    "- **É PERMITIDO O USO DE LLM (ex: ChatGPT).** Documente seus prompts e como o modelo te ajudou (substitua grandes partes por placeholders na documentação, por exemplo, caso tenha colado a classe Seq2Seq, na documentação escreva \"Prompt: por favor, me ajude a entender a seguinte classe: [Classe Seq2Seq]\"). Cite como o LLM te ajudou em textos, não apenas colando a resposta por ele (ex: Com este prompt, o LLM me ajudou a entender ... e gerar a parte do código referente à ..., mas com erro em ...)."
   ],
   "metadata": {
    "id": "CksFeFVBFgd6"
   }
  },
  {
   "cell_type": "markdown",
   "source": [
    "**Documente aqui quais LLMs foram utiliazdos:** (ex: ChatGPT)<br>\n",
    "\n",
    "Após estabelecer a linha de racíocinio do que faria para responder a primeira questão, vi que seria necessário acessar cada hidden do encoder e o hidden do encoder. Com isso, investiguei mais o código e achei as variáveis: encoder_hidden_states, decoder_hidden_state. Ao investigar, vi que minha encoder_hidden_states fornecia exatamente o hidden para cada \"step de tempo\", cada token +hidden anterior de entrada na rede. Contudo, vi também que o hidden do decoder vinha com uma dimensão maior que a esperada (esperava um único vetor do hidden naquele timestamp) porém, vi que vinham 2, o último vetor era como o esperado, mas o primeiro não.\n",
    " \n",
    "Usei o Chat-gpt para me tirar essa dúvida:\n",
    "1 - Enviei um prompt pedindo para me explicar o por que desse retorno do hidden do decoder ter dimensão maior que 1 (passei parcela do código necessária) \n",
    "Resposta: Dentro da resposta, uma das possibilidades destacadas, é que como foram definidas 2 camadas, ele me retornava o hidden para cada camada do decoder, enquanto no encoder, era apenas o hidden final daquele timstamp. \n",
    "\n",
    "Com isso, fiz alguns testes com o número de camadas e vi que de fato ele se comportava como descrito, para sanar 100 por cento a dúvida, abri a documentação no seguinte link: https://pytorch.org/docs/stable/generated/torch.nn.RNN.html, e vi que realmente era isso na seguinte linha: \"`h_n`: tensor de forma `(D * num_layers, H_out)` para entradas sem batch ou `(D * num_layers, N, H_out)` contendo o estado oculto final para cada elemento no batch. Como estamos sem batches, temos o shape (num_layerrs, H_out) (nosso D é igual a 1, pois não é bidirecional). Assim, para os cálculos da atenção consideraremos o hidden do decoder como o hidden da última camada.\n",
    "\""
   ],
   "metadata": {
    "id": "fp88aZUfKI26"
   }
  },
  {
   "metadata": {},
   "cell_type": "markdown",
   "source": [
    "REFERÊNCIAS:\n",
    "\n",
    "https://www.youtube.com/watch?v=94hG00EJFNo&list=PLSZEVLiOtIgF19_cPrvhJC2bWn-dUh1zB&index=7\n",
    "\n",
    "https://pt.d2l.ai/chapter_attention-mechanisms/attention-scoring-functions.html\n"
   ]
  },
  {
   "cell_type": "markdown",
   "source": [
    "##### **A partir das classes estabelecidas e do código de treinamento, modifique a classe Seq2Seq para responder as questões seguintes:**"
   ],
   "metadata": {
    "id": "w_4dvcB_BNj5"
   }
  },
  {
   "cell_type": "markdown",
   "source": [
    "#### **Questão 1**\n",
    "Altere a classe Seq2Seq para implementar uma attention através da média dos hidden states do encoder (semelhante à gerar um attention score igual à todos os hidden states do encoder). Mantenha a concatenação entre o attention output e o embedding como na classe Decoder originalmente implementada. Após isso, treine dois o modelo com o objetivo de traduzir cada letra para seu correspondente numérico:\n",
    "- Um modelo com o alfabeto completo (a:1, b:2, c:3, ..., z:26).\n",
    "\n",
    "- Um modelo com o alfabeto até a letra f (a:1, b:2, c:3, ... f:6)\n",
    "\n",
    "- Após treinado, faça uma inferência condizente com o treinamento e plote o mapa de atenção para cada um dos modelos treinados."
   ],
   "metadata": {
    "id": "so_AEWcr2h6N"
   }
  },
  {
   "metadata": {},
   "cell_type": "markdown",
   "source": "IF DECODER... VERIFICA SE JÁ PROCESSAMOS O ENCODER, ASSIM QUE PROCESSAMOS O ENCODER, INICIALIZAMOS O DECODER, E NO PROXIMO STEP FORA DO IF TEMOS O PROXIMO STEP DO DECODER (isso em uma nova chamada do foward) VERIFICAR ISSO QUANDO FOR CALCULAR ATTENTION"
  },
  {
   "metadata": {},
   "cell_type": "markdown",
   "source": [
    "Para o código abaixo temos as seguintes alterações:\n",
    "\n",
    "1. Adicionamos a variável `self.attention` para armazenar a média dos hidden states do encoder. Como o valor do attention não depende da entrada do decoder, ele é calculado apenas na primeira chamada do forward. Após isso, fica guardado, claro para o processamento de uma sequência.\n",
    "\n",
    "2. No foward, recebemos os inputs_id (tensor que representa a entrada, ou seja, a sequência de tokens de entrada), o input_id_decoder (tensor que representa o token de entrada do decoder) e o decoder_hidden_state (tensor que representa o hidden state do decoder). Se o decoder_hidden_state for None, significa que estamos no primeiro passo do decoder, então precisamos processar o encoder. Para isso, chamamos o encoder com os inputs_id e guardamos os hidden states do encoder em `encoder_hidden_states` e o hidden state final do encoder em `decoder_hidden_state`. Calculamos a média dos hidden states do encoder e guardamos em `self.attention`."
   ]
  },
  {
   "cell_type": "code",
   "source": [
    "class Seq2Seq(nn.Module):\n",
    "    def __init__(self, input_vocab_size, output_vocab_size, emb_dim, hidden_dim, n_layers, dropout, sos_id=0, eos_id=1):\n",
    "        super(Seq2Seq, self).__init__()\n",
    "        self.encoder = Encoder(input_vocab_size, emb_dim, hidden_dim, n_layers, dropout)\n",
    "        self.decoder = Decoder(output_vocab_size, emb_dim, hidden_dim, n_layers, dropout, use_attention=True)\n",
    "        self.fc_out = nn.Linear(hidden_dim, output_vocab_size)\n",
    "        self.attention = None #inicialização do attention\n",
    "        self.attention_scores = []\n",
    "\n",
    "\n",
    "    def forward(self, inputs_id_encoder=None, input_id_decoder=None, decoder_hidden_state=None, attention_scores=None):\n",
    "        if decoder_hidden_state is None:\n",
    "            encoder_hidden_states, decoder_hidden_state = self.encoder(inputs_id_encoder)\n",
    "            self.attention = torch.mean(encoder_hidden_states, dim=0, dtype=torch.float32).unsqueeze(0) # Faz a média dos hidden do encoder \n",
    "\n",
    "            seq_len = encoder_hidden_states.size(0)\n",
    "            self.attention_scores = torch.ones(seq_len) / seq_len  # Shape: (seq_len,)\n",
    "                \n",
    "            \n",
    "\n",
    "\n",
    "        output, hidden = self.decoder(input_id_decoder, decoder_hidden_state, attention=self.attention)\n",
    "        output = self.fc_out(output)\n",
    "\n",
    "        '''A FUNÇÃO SOTMAX JÁ ESTÁ PRESENTE NO CÁLCULO DA LOSS, ISSO PODE ATRAPALHAR O TREINO,\n",
    "        A LINHA ABAIXO RETORNAVA O TOKEN DE MAIOR PROBABILIDADE, PORÉM, PARA O CÁLCULO DA LOSS QUEREMOS A PROBABILIDADE DE CADA TOKEN'''\n",
    "        #output_distribution = F.softmax(output, dim=1) A FUNÇÃO SOTMAX JÁ ESTÁ PRESENTE NO CÁLCULO DA LOSS, ISSO PODE ATRAPALHAR O TREINO\n",
    "        #token_id = torch.argmax(output_distribution, dim=1) ESSA LINHA RETORNAVA O TOKEN DE MAIOR PROBABILIDADE, PORÉM, PARA O CÁLCULO DA LOSS QUEREMOS A PROBABILIDADE DE CADA TOKEN\n",
    "        \n",
    "        return output, hidden"
   ],
   "metadata": {
    "id": "D1Wj3aTj1-Ko",
    "ExecuteTime": {
     "end_time": "2024-09-25T05:00:49.816684Z",
     "start_time": "2024-09-25T05:00:49.806695Z"
    }
   },
   "execution_count": 279,
   "outputs": []
  },
  {
   "metadata": {},
   "cell_type": "markdown",
   "source": "##### Alfabeto completo (modelo 1)"
  },
  {
   "metadata": {
    "ExecuteTime": {
     "end_time": "2024-09-25T05:00:50.127026Z",
     "start_time": "2024-09-25T05:00:50.122924Z"
    }
   },
   "cell_type": "code",
   "source": [
    "tokenizer = Tokenizer()\n",
    "\n",
    "inputs = [\n",
    "    \"a\", \"b\", \"c\", \"d\", \"e\", \"f\", \"g\", \"h\", \"i\", \"j\", \"k\", \"l\", \"m\",\n",
    "    \"n\", \"o\", \"p\", \"q\", \"r\", \"s\", \"t\", \"u\", \"v\", \"w\", \"x\", \"y\", \"z\"\n",
    "]\n",
    "\n",
    "outputs = [str(i+1) for i, _ in enumerate(inputs)]\n",
    "\n",
    "tokenizer.add_input_vocab(inputs)\n",
    "tokenizer.add_output_vocab(outputs)"
   ],
   "execution_count": 280,
   "outputs": []
  },
  {
   "metadata": {
    "ExecuteTime": {
     "end_time": "2024-09-25T05:00:50.355944Z",
     "start_time": "2024-09-25T05:00:50.348588Z"
    }
   },
   "cell_type": "code",
   "source": [
    "input_vocab_size = tokenizer.len_vocab_input\n",
    "output_vocab_size = tokenizer.len_vocab_output\n",
    "\n",
    "emb_dim = 32\n",
    "hidden_dim = 32\n",
    "n_layers = 2\n",
    "dropout = 0.2\n",
    "learning_rate = 0.001\n",
    "num_steps = 5000\n",
    "\n",
    "model1 = Seq2Seq(input_vocab_size, output_vocab_size, emb_dim, hidden_dim, n_layers, dropout)\n",
    "model1"
   ],
   "execution_count": 281,
   "outputs": []
  },
  {
   "metadata": {
    "ExecuteTime": {
     "end_time": "2024-09-25T05:00:58.107979Z",
     "start_time": "2024-09-25T05:00:50.510240Z"
    }
   },
   "cell_type": "code",
   "source": [
    "criterion = nn.CrossEntropyLoss()\n",
    "optimizer = optim.Adam(model1.parameters(), lr=learning_rate)\n",
    "history = train(model1, tokenizer, criterion, optimizer, num_steps)"
   ],
   "execution_count": 282,
   "outputs": []
  },
  {
   "metadata": {
    "ExecuteTime": {
     "end_time": "2024-09-25T05:00:58.210165Z",
     "start_time": "2024-09-25T05:00:58.109741Z"
    }
   },
   "cell_type": "code",
   "source": "plot_loss(history)",
   "execution_count": 283,
   "outputs": []
  },
  {
   "metadata": {
    "ExecuteTime": {
     "end_time": "2024-09-25T05:00:58.216024Z",
     "start_time": "2024-09-25T05:00:58.211412Z"
    }
   },
   "cell_type": "code",
   "source": "test_model(model1, tokenizer, [\"a\", \"b\", \"c\"])",
   "execution_count": 284,
   "outputs": []
  },
  {
   "metadata": {},
   "cell_type": "markdown",
   "source": "#### Alfabeto até F (modelo 2)"
  },
  {
   "metadata": {
    "ExecuteTime": {
     "end_time": "2024-09-25T05:00:58.220697Z",
     "start_time": "2024-09-25T05:00:58.218101Z"
    }
   },
   "cell_type": "code",
   "source": [
    "tokenizer = Tokenizer()\n",
    "\n",
    "inputs = [\n",
    "    \"a\", \"b\", \"c\", \"d\", \"e\", \"f\"\n",
    "]\n",
    "\n",
    "outputs = [str(i+1) for i, _ in enumerate(inputs)]\n",
    "\n",
    "tokenizer.add_input_vocab(inputs)\n",
    "tokenizer.add_output_vocab(outputs)"
   ],
   "execution_count": 285,
   "outputs": []
  },
  {
   "metadata": {
    "ExecuteTime": {
     "end_time": "2024-09-25T05:00:58.227553Z",
     "start_time": "2024-09-25T05:00:58.222084Z"
    }
   },
   "cell_type": "code",
   "source": [
    "input_vocab_size = tokenizer.len_vocab_input\n",
    "output_vocab_size = tokenizer.len_vocab_output\n",
    "\n",
    "emb_dim = 32\n",
    "hidden_dim = 32\n",
    "n_layers = 2\n",
    "dropout = 0.2\n",
    "learning_rate = 0.001\n",
    "num_steps = 5000\n",
    "\n",
    "model2 = Seq2Seq(input_vocab_size, output_vocab_size, emb_dim, hidden_dim, n_layers, dropout)\n",
    "model2"
   ],
   "execution_count": 286,
   "outputs": []
  },
  {
   "metadata": {
    "ExecuteTime": {
     "end_time": "2024-09-25T05:01:04.825499Z",
     "start_time": "2024-09-25T05:00:58.228796Z"
    }
   },
   "cell_type": "code",
   "source": [
    "criterion = nn.CrossEntropyLoss()\n",
    "optimizer = optim.Adam(model2.parameters(), lr=learning_rate)\n",
    "history = train(model2, tokenizer, criterion, optimizer, num_steps)"
   ],
   "execution_count": 287,
   "outputs": []
  },
  {
   "metadata": {
    "ExecuteTime": {
     "end_time": "2024-09-25T05:01:04.919941Z",
     "start_time": "2024-09-25T05:01:04.827375Z"
    }
   },
   "cell_type": "code",
   "source": "plot_loss(history)",
   "execution_count": 288,
   "outputs": []
  },
  {
   "metadata": {
    "ExecuteTime": {
     "end_time": "2024-09-25T05:01:04.925201Z",
     "start_time": "2024-09-25T05:01:04.921483Z"
    }
   },
   "cell_type": "code",
   "source": "test_model(model2, tokenizer, [\"a\", \"b\", \"c\"])",
   "execution_count": 289,
   "outputs": []
  },
  {
   "metadata": {},
   "cell_type": "markdown",
   "source": "##### **Mapa de atenção**"
  },
  {
   "metadata": {
    "ExecuteTime": {
     "end_time": "2024-09-25T05:01:05.075093Z",
     "start_time": "2024-09-25T05:01:04.926423Z"
    }
   },
   "cell_type": "code",
   "source": [
    "def plot_attention(model, tokenizer, input=[\"a\", \"b\", \"c\"]):\n",
    "    enc_inp = tokenizer.tokens2inputs_id(input)\n",
    "    hidden_state = None\n",
    "    token_id = torch.tensor([tokenizer.SOS_ID])\n",
    "    outputs_ids = []\n",
    "\n",
    "    attention_matrix = []\n",
    "    for i in range(MAX_STEPS):\n",
    "        output_distribution, hidden_state = model(enc_inp, token_id, hidden_state)\n",
    "        token_id = torch.argmax(output_distribution, dim=1)\n",
    "        token_id_value = token_id.item()\n",
    "\n",
    "        if token_id_value >= len(tokenizer.vocab_output):\n",
    "            token_id_value = tokenizer.OOV_ID\n",
    "\n",
    "        outputs_ids.append(token_id_value)\n",
    "        attention_matrix.append(model.attention_scores)\n",
    "\n",
    "        if token_id_value == tokenizer.EOS_ID:\n",
    "            break\n",
    "\n",
    "    print(f\"Entrada: {' - '.join(input)}\")\n",
    "    print(f\"Saída: {' - '.join([tokenizer.outputs_id2text(outputs_ids[i]) for i in range(len(outputs_ids))])}\")\n",
    "\n",
    "    num_output_tokens = len(outputs_ids)\n",
    "    num_input_tokens = len(enc_inp)\n",
    "\n",
    "    attention_matrix_np = np.stack([score.detach().numpy() for score in attention_matrix])\n",
    "\n",
    "    attention_matrix_np = attention_matrix_np[:num_output_tokens, :num_input_tokens]\n",
    "\n",
    "\n",
    "    print(\"Input IDs:\", enc_inp)\n",
    "    print(\"Input Tokens:\", [tokenizer.vocab_input[i] for i in enc_inp])\n",
    "    print(\"Output IDs:\", outputs_ids)\n",
    "    print(\"Output Tokens:\", [tokenizer.outputs_id2text(i) for i in outputs_ids])\n",
    "\n",
    "    for i, attention_scores in enumerate(attention_matrix):\n",
    "        print(f\"Attention scores for output token {i}: {attention_scores}\")\n",
    "\n",
    "\n",
    "    plt.figure(figsize=(10, 8))\n",
    "    ax = sns.heatmap(\n",
    "        attention_matrix_np,\n",
    "        annot=True,\n",
    "        cmap='Blues',\n",
    "        xticklabels=[tokenizer.vocab_input[i] for i in enc_inp],\n",
    "        yticklabels=[tokenizer.outputs_id2text(outputs_ids[i]) for i in range(len(outputs_ids))],\n",
    "        cbar=True\n",
    "    )\n",
    "\n",
    "    plt.xlabel('Tokens de Entrada')\n",
    "    plt.ylabel('Tokens de Saída')\n",
    "    plt.title('Mapa de Atenção - Tokens de Entrada x Tokens de Saída')\n",
    "\n",
    "    plt.show()\n",
    "\n",
    "\n",
    "plot_attention(model2, tokenizer, input=[\"a\", \"b\", \"c\"])"
   ],
   "execution_count": 290,
   "outputs": []
  },
  {
   "cell_type": "markdown",
   "source": [
    "#### **Questão 2**\n",
    "Altere a classe que você criou na Questão 1 para que o Attention Output seja concatenado com o hidden state do decoder (e não com o embedding). Após isso, treine o modelo com o objetivo de traduzir cada letra para seu correspondente numérico:\n",
    "\n",
    "- Um modelo com o alfabeto completo (a:1, b:2, c:3, ..., z:26).\n",
    "\n",
    "- Um modelo com o alfabeto até a letra f (a:1, b:2, c:3, ... f:6)\n",
    "\n",
    "- Após treinado, faça uma inferência condizente com o treinamento e plote o mapa de atenção para cada um dos modelos treinados.\n",
    "\n",
    "> **Dica:** Não utilize a atenção implementada na classe Decoder, mas implemente o que for necessário na classe Seq2Seq."
   ],
   "metadata": {
    "id": "Ap6lG3GA_Ipw"
   }
  },
  {
   "cell_type": "code",
   "source": [
    "class Seq2Seq(nn.Module):\n",
    "    def __init__(self, input_vocab_size, output_vocab_size, emb_dim, hidden_dim, n_layers, dropout, sos_id=0, eos_id=1):\n",
    "        super(Seq2Seq, self).__init__()\n",
    "        self.encoder = Encoder(input_vocab_size, emb_dim, hidden_dim, n_layers, dropout)\n",
    "        self.decoder = Decoder(output_vocab_size, emb_dim, hidden_dim, n_layers, dropout, use_attention=False)\n",
    "        self.fc_out = nn.Linear(2*hidden_dim, output_vocab_size) #alteração para 2*hidden_dim, pois passaremos a concatenar o attention com o hidden do decoder\n",
    "        self.attention = None #inicialização do attention\n",
    "        self.attention_scores = []\n",
    "\n",
    "\n",
    "    def forward(self, inputs_id_encoder=None, input_id_decoder=None, decoder_hidden_state=None, attention_scores=None):\n",
    "        if decoder_hidden_state is None:\n",
    "            encoder_hidden_states, decoder_hidden_state = self.encoder(inputs_id_encoder)\n",
    "            self.attention = torch.mean(encoder_hidden_states, dim=0, dtype=torch.float32).unsqueeze(0) # Faz a média dos hidden do encoder \n",
    "\n",
    "            seq_len = encoder_hidden_states.size(0)\n",
    "            self.attention_scores = torch.ones(seq_len) / seq_len  # Shape: (seq_len,)\n",
    "\n",
    "\n",
    "\n",
    "\n",
    "        output, hidden = self.decoder(input_id_decoder, decoder_hidden_state, attention=None)\n",
    "\n",
    "        attention_hidden = torch.cat((output, self.attention), dim=1)\n",
    "        \n",
    "        output = self.fc_out(attention_hidden)\n",
    "\n",
    "        return output, hidden"
   ],
   "metadata": {
    "id": "-J7KZtkjCXQB",
    "ExecuteTime": {
     "end_time": "2024-09-25T05:01:07.757590Z",
     "start_time": "2024-09-25T05:01:07.749109Z"
    }
   },
   "execution_count": 291,
   "outputs": []
  },
  {
   "metadata": {},
   "cell_type": "markdown",
   "source": "##### Alfabeto completo (modelo 1)"
  },
  {
   "metadata": {
    "ExecuteTime": {
     "end_time": "2024-09-25T05:01:08.095996Z",
     "start_time": "2024-09-25T05:01:08.093142Z"
    }
   },
   "cell_type": "code",
   "source": [
    "tokenizer = Tokenizer()\n",
    "\n",
    "inputs = [\n",
    "    \"a\", \"b\", \"c\", \"d\", \"e\", \"f\", \"g\", \"h\", \"i\", \"j\", \"k\", \"l\", \"m\",\n",
    "    \"n\", \"o\", \"p\", \"q\", \"r\", \"s\", \"t\", \"u\", \"v\", \"w\", \"x\", \"y\", \"z\"\n",
    "]\n",
    "\n",
    "outputs = [str(i + 1) for i, _ in enumerate(inputs)]\n",
    "\n",
    "tokenizer.add_input_vocab(inputs)\n",
    "tokenizer.add_output_vocab(outputs)\n",
    "input_vocab_size = tokenizer.len_vocab_input\n",
    "output_vocab_size = tokenizer.len_vocab_output"
   ],
   "execution_count": 292,
   "outputs": []
  },
  {
   "metadata": {
    "ExecuteTime": {
     "end_time": "2024-09-25T05:01:08.282940Z",
     "start_time": "2024-09-25T05:01:08.278108Z"
    }
   },
   "cell_type": "code",
   "source": [
    "emb_dim = 32\n",
    "hidden_dim = 32\n",
    "n_layers = 2\n",
    "dropout = 0.2\n",
    "learning_rate = 0.001\n",
    "num_steps = 5000\n",
    "\n",
    "model1 = Seq2Seq(input_vocab_size, output_vocab_size, emb_dim, hidden_dim, n_layers, dropout)\n",
    "model1"
   ],
   "execution_count": 293,
   "outputs": []
  },
  {
   "metadata": {
    "ExecuteTime": {
     "end_time": "2024-09-25T05:01:15.787327Z",
     "start_time": "2024-09-25T05:01:08.619946Z"
    }
   },
   "cell_type": "code",
   "source": [
    "criterion = nn.CrossEntropyLoss()\n",
    "optimizer = optim.Adam(model1.parameters(), lr=learning_rate)\n",
    "history = train(model1, tokenizer, criterion, optimizer, num_steps)"
   ],
   "execution_count": 294,
   "outputs": []
  },
  {
   "metadata": {
    "ExecuteTime": {
     "end_time": "2024-09-25T05:01:15.932865Z",
     "start_time": "2024-09-25T05:01:15.789061Z"
    }
   },
   "cell_type": "code",
   "source": "plot_loss(history)",
   "execution_count": 295,
   "outputs": []
  },
  {
   "metadata": {
    "ExecuteTime": {
     "end_time": "2024-09-25T05:01:15.938470Z",
     "start_time": "2024-09-25T05:01:15.934332Z"
    }
   },
   "cell_type": "code",
   "source": "test_model(model1, tokenizer, [\"a\", \"b\", \"c\"])",
   "execution_count": 296,
   "outputs": []
  },
  {
   "metadata": {},
   "cell_type": "markdown",
   "source": "#### Alfabeto até F (modelo 2)"
  },
  {
   "metadata": {
    "ExecuteTime": {
     "end_time": "2024-09-25T05:01:15.943263Z",
     "start_time": "2024-09-25T05:01:15.940460Z"
    }
   },
   "cell_type": "code",
   "source": [
    "tokenizer = Tokenizer()\n",
    "\n",
    "inputs = [\n",
    "    \"a\", \"b\", \"c\", \"d\", \"e\", \"f\"\n",
    "]\n",
    "\n",
    "outputs = [str(i + 1) for i, _ in enumerate(inputs)]\n",
    "\n",
    "tokenizer.add_input_vocab(inputs)\n",
    "tokenizer.add_output_vocab(outputs)\n",
    "input_vocab_size = tokenizer.len_vocab_input\n",
    "output_vocab_size = tokenizer.len_vocab_output"
   ],
   "execution_count": 297,
   "outputs": []
  },
  {
   "metadata": {
    "ExecuteTime": {
     "end_time": "2024-09-25T05:01:15.950454Z",
     "start_time": "2024-09-25T05:01:15.944376Z"
    }
   },
   "cell_type": "code",
   "source": [
    "emb_dim = 32\n",
    "hidden_dim = 32\n",
    "n_layers = 2\n",
    "dropout = 0.2\n",
    "learning_rate = 0.001\n",
    "num_steps = 5000\n",
    "\n",
    "model2 = Seq2Seq(input_vocab_size, output_vocab_size, emb_dim, hidden_dim, n_layers, dropout)\n",
    "model2"
   ],
   "execution_count": 298,
   "outputs": []
  },
  {
   "metadata": {
    "ExecuteTime": {
     "end_time": "2024-09-25T05:01:22.574863Z",
     "start_time": "2024-09-25T05:01:15.951662Z"
    }
   },
   "cell_type": "code",
   "source": [
    "criterion = nn.CrossEntropyLoss()\n",
    "optimizer = optim.Adam(model2.parameters(), lr=learning_rate)\n",
    "history = train(model2, tokenizer, criterion, optimizer, num_steps)"
   ],
   "execution_count": 299,
   "outputs": []
  },
  {
   "metadata": {
    "ExecuteTime": {
     "end_time": "2024-09-25T05:01:22.666283Z",
     "start_time": "2024-09-25T05:01:22.575659Z"
    }
   },
   "cell_type": "code",
   "source": "plot_loss(history)",
   "execution_count": 300,
   "outputs": []
  },
  {
   "metadata": {
    "ExecuteTime": {
     "end_time": "2024-09-25T05:01:22.671718Z",
     "start_time": "2024-09-25T05:01:22.667342Z"
    }
   },
   "cell_type": "code",
   "source": "test_model(model2, tokenizer, [\"a\", \"b\", \"c\"])",
   "execution_count": 301,
   "outputs": []
  },
  {
   "metadata": {
    "ExecuteTime": {
     "end_time": "2024-09-25T05:01:22.796048Z",
     "start_time": "2024-09-25T05:01:22.672492Z"
    }
   },
   "cell_type": "code",
   "source": "plot_attention(model2, tokenizer, input=[\"a\", \"b\", \"c\"])",
   "execution_count": 302,
   "outputs": []
  },
  {
   "cell_type": "markdown",
   "source": [
    "#### **Questão 3**\n",
    "\n",
    "Implemente o mecanismo de atenção de  Bahdanau et al. (2015). Após isso, treine dois o modelo com o objetivo de traduzir cada letra para seu correspondente numérico:\n",
    "- Um modelo com o alfabeto completo (a:1, b:2, c:3, ..., z:26).\n",
    "\n",
    "- Um modelo com o alfabeto até a letra f (a:1, b:2, c:3, ... f:6)\n",
    "\n",
    "- Após treinado, faça uma inferência condizente com o treinamento e plote o mapa de atenção para cada um dos modelos treinados."
   ],
   "metadata": {
    "id": "PHAfIqoMaB9g"
   }
  },
  {
   "metadata": {},
   "cell_type": "markdown",
   "source": "Nesse caso, é importante salvar os hiddens do decoder para cada timestep, pois precisaremos deles para calcular o attention score. Além disso, precisamos calcular o attention score para cada timestep do decoder, e não apenas para o último timestep. Esse attention será feito usando o hidden do decoder e os hiddens do encoder. O attention score será calculado para cada timestep do decoder e será usado para ponderar os hiddens do encoder. O output do attention será a concatenação do hidden do decoder com o hidden ponderado do encoder."
  },
  {
   "cell_type": "code",
   "source": [
    "class Seq2Seq(nn.Module):\n",
    "    def __init__(self, input_vocab_size, output_vocab_size, emb_dim, hidden_dim, n_layers, dropout, sos_id=0, eos_id=1):\n",
    "        super(Seq2Seq, self).__init__()\n",
    "        self.encoder = Encoder(input_vocab_size, emb_dim, hidden_dim, n_layers, dropout)\n",
    "        self.decoder = Decoder(output_vocab_size, emb_dim, hidden_dim, n_layers, dropout, use_attention=True)\n",
    "        self.fc_out = nn.Linear(hidden_dim, output_vocab_size)\n",
    "        \n",
    "        self.hiddens_decoder = [] #inicialização dos hiddens do decoder\n",
    "        \n",
    "        self.attention_scores = []\n",
    "        \n",
    "\n",
    "\n",
    "    def forward(self, inputs_id_encoder=None, input_id_decoder=None, decoder_hidden_state=None, attention_scores=None):\n",
    "        if decoder_hidden_state is None:\n",
    "            encoder_hidden_states, decoder_hidden_state = self.encoder(inputs_id_encoder)\n",
    "            self.hiddens_decoder = encoder_hidden_states\n",
    "\n",
    "\n",
    "        self.attention_scores = []\n",
    "        hidden_decoder = decoder_hidden_state[-1] # Pegamos o hidden da última camada do decoder\n",
    "        \n",
    "        for i in range(len(self.hiddens_decoder)): # Para cada vetor no hidden\n",
    "            hidden_encoder = self.hiddens_decoder[i]\n",
    "            attention_score = torch.dot(hidden_decoder, hidden_encoder) # Calcula o attention score como produto interno do hidden_encoder e hidden_decoder\n",
    "            self.attention_scores.append(attention_score)\n",
    "            \n",
    "        self.attention_scores = F.softmax(torch.stack(self.attention_scores), dim=0) # Softmax para obter os pesos do attention\n",
    "        \n",
    "        attention_vec = torch.sum(self.attention_scores.unsqueeze(1) * self.hiddens_decoder, dim=0).unsqueeze(0) # Multiplica os pesos do attention com os hiddens do encoder\n",
    "\n",
    "\n",
    "\n",
    "        output, hidden = self.decoder(input_id_decoder, decoder_hidden_state, attention=attention_vec)\n",
    "        output = self.fc_out(output)\n",
    "\n",
    "        return output, hidden"
   ],
   "metadata": {
    "id": "UI--imGSaFIZ",
    "ExecuteTime": {
     "end_time": "2024-09-25T05:01:23.896136Z",
     "start_time": "2024-09-25T05:01:23.889721Z"
    }
   },
   "execution_count": 303,
   "outputs": []
  },
  {
   "metadata": {},
   "cell_type": "markdown",
   "source": "##### Alfabeto completo (modelo 1)"
  },
  {
   "metadata": {
    "ExecuteTime": {
     "end_time": "2024-09-25T05:02:33.348653Z",
     "start_time": "2024-09-25T05:02:33.342885Z"
    }
   },
   "cell_type": "code",
   "source": [
    "tokenizer = Tokenizer()\n",
    "\n",
    "inputs = [\n",
    "    \"a\", \"b\", \"c\", \"d\", \"e\", \"f\", \"g\", \"h\", \"i\", \"j\", \"k\", \"l\", \"m\",\n",
    "    \"n\", \"o\", \"p\", \"q\", \"r\", \"s\", \"t\", \"u\", \"v\", \"w\", \"x\", \"y\", \"z\"\n",
    "]\n",
    "\n",
    "outputs = [str(i + 1) for i, _ in enumerate(inputs)]\n",
    "\n",
    "tokenizer.add_input_vocab(inputs)\n",
    "tokenizer.add_output_vocab(outputs)\n",
    "input_vocab_size = tokenizer.len_vocab_input\n",
    "output_vocab_size = tokenizer.len_vocab_output"
   ],
   "execution_count": 317,
   "outputs": []
  },
  {
   "metadata": {
    "ExecuteTime": {
     "end_time": "2024-09-25T05:02:33.693973Z",
     "start_time": "2024-09-25T05:02:33.684941Z"
    }
   },
   "cell_type": "code",
   "source": [
    "emb_dim = 32\n",
    "hidden_dim = 32\n",
    "n_layers = 2\n",
    "dropout = 0.2\n",
    "learning_rate = 0.001\n",
    "num_steps = 5000\n",
    "\n",
    "model1 = Seq2Seq(input_vocab_size, output_vocab_size, emb_dim, hidden_dim, n_layers, dropout)\n",
    "model1"
   ],
   "execution_count": 318,
   "outputs": []
  },
  {
   "metadata": {
    "ExecuteTime": {
     "end_time": "2024-09-25T05:02:42.223951Z",
     "start_time": "2024-09-25T05:02:33.799007Z"
    }
   },
   "cell_type": "code",
   "source": [
    "criterion = nn.CrossEntropyLoss()\n",
    "optimizer = optim.Adam(model1.parameters(), lr=learning_rate)\n",
    "history = train(model1, tokenizer, criterion, optimizer, num_steps)"
   ],
   "execution_count": 319,
   "outputs": []
  },
  {
   "metadata": {
    "ExecuteTime": {
     "end_time": "2024-09-25T05:02:42.335905Z",
     "start_time": "2024-09-25T05:02:42.234738Z"
    }
   },
   "cell_type": "code",
   "source": "plot_loss(history)",
   "execution_count": 320,
   "outputs": []
  },
  {
   "metadata": {
    "ExecuteTime": {
     "end_time": "2024-09-25T05:02:42.341553Z",
     "start_time": "2024-09-25T05:02:42.337256Z"
    }
   },
   "cell_type": "code",
   "source": "test_model(model1, tokenizer, [\"a\", \"b\", \"c\"])",
   "execution_count": 321,
   "outputs": []
  },
  {
   "metadata": {},
   "cell_type": "markdown",
   "source": "#### Alfabeto até F (modelo 2)"
  },
  {
   "metadata": {
    "ExecuteTime": {
     "end_time": "2024-09-25T05:04:01.453920Z",
     "start_time": "2024-09-25T05:04:01.450583Z"
    }
   },
   "cell_type": "code",
   "source": [
    "tokenizer = Tokenizer()\n",
    "\n",
    "inputs = [\n",
    "    \"a\", \"b\", \"c\", \"d\", \"e\", \"f\"\n",
    "]\n",
    "\n",
    "outputs = [str(i + 1) for i, _ in enumerate(inputs)]\n",
    "\n",
    "tokenizer.add_input_vocab(inputs)\n",
    "tokenizer.add_output_vocab(outputs)\n",
    "input_vocab_size = tokenizer.len_vocab_input\n",
    "output_vocab_size = tokenizer.len_vocab_output"
   ],
   "execution_count": 324,
   "outputs": []
  },
  {
   "metadata": {
    "ExecuteTime": {
     "end_time": "2024-09-25T05:04:01.644271Z",
     "start_time": "2024-09-25T05:04:01.637080Z"
    }
   },
   "cell_type": "code",
   "source": [
    "emb_dim = 32\n",
    "hidden_dim = 32\n",
    "n_layers = 2\n",
    "dropout = 0.2\n",
    "learning_rate = 0.001\n",
    "num_steps = 10000\n",
    "\n",
    "model2 = Seq2Seq(input_vocab_size, output_vocab_size, emb_dim, hidden_dim, n_layers, dropout)\n",
    "model2"
   ],
   "execution_count": 325,
   "outputs": []
  },
  {
   "metadata": {
    "ExecuteTime": {
     "end_time": "2024-09-25T05:04:16.984322Z",
     "start_time": "2024-09-25T05:04:01.853377Z"
    }
   },
   "cell_type": "code",
   "source": [
    "criterion = nn.CrossEntropyLoss()\n",
    "optimizer = optim.Adam(model2.parameters(), lr=learning_rate)\n",
    "history = train(model2, tokenizer, criterion, optimizer, num_steps)"
   ],
   "execution_count": 326,
   "outputs": []
  },
  {
   "metadata": {
    "ExecuteTime": {
     "end_time": "2024-09-25T05:04:17.110731Z",
     "start_time": "2024-09-25T05:04:16.986497Z"
    }
   },
   "cell_type": "code",
   "source": "plot_loss(history)",
   "execution_count": 327,
   "outputs": []
  },
  {
   "metadata": {
    "ExecuteTime": {
     "end_time": "2024-09-25T05:04:17.119135Z",
     "start_time": "2024-09-25T05:04:17.112803Z"
    }
   },
   "cell_type": "code",
   "source": "test_model(model2, tokenizer, [\"a\", \"b\", \"c\"])",
   "execution_count": 328,
   "outputs": []
  },
  {
   "metadata": {
    "ExecuteTime": {
     "end_time": "2024-09-25T05:04:17.271804Z",
     "start_time": "2024-09-25T05:04:17.122049Z"
    }
   },
   "cell_type": "code",
   "source": "plot_attention(model2, tokenizer, input=[\"a\", \"b\", \"c\"])",
   "execution_count": 329,
   "outputs": []
  },
  {
   "metadata": {},
   "cell_type": "code",
   "execution_count": null,
   "source": "",
   "outputs": []
  },
  {
   "cell_type": "markdown",
   "source": [
    "#### **Questão 4**\n",
    "Implemente a \"??? Attention\" apresentada durante a aula.  Após isso, treine dois modelos com o objetivo de traduzir cada letra para seu correspondente numérico:\n",
    "- Um modelo com o alfabeto completo (a:1, b:2, c:3, ..., z:26).\n",
    "\n",
    "- Um modelo com o alfabeto até a letra f (a:1, b:2, c:3, ... f:6)\n",
    "\n",
    "- Após treinado, faça uma inferência condizente com o treinamento e plote o mapa de atenção para cada um dos modelos treinados."
   ],
   "metadata": {
    "id": "PNHnBLWwHhYE"
   }
  },
  {
   "cell_type": "markdown",
   "source": "![image.png](data:image/png;base64,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)",
   "metadata": {
    "id": "w7rvUaweDvWV"
   }
  },
  {
   "cell_type": "code",
   "source": [
    "class Seq2Seq(nn.Module):\n",
    "    def __init__(self, input_vocab_size, output_vocab_size, emb_dim, hidden_dim, n_layers, dropout, sos_id=0, eos_id=1):\n",
    "        super(Seq2Seq, self).__init__()\n",
    "        self.encoder = Encoder(input_vocab_size, emb_dim, hidden_dim, n_layers, dropout)\n",
    "        self.decoder = Decoder(output_vocab_size, emb_dim, hidden_dim, n_layers, dropout, use_attention=True)\n",
    "        self.fc_out = nn.Linear(hidden_dim, output_vocab_size)\n",
    "        \n",
    "        self.q = nn.Linear(hidden_dim, hidden_dim)\n",
    "        self.k = nn.Linear(hidden_dim, hidden_dim)\n",
    "        self.v = nn.Linear(hidden_dim, hidden_dim)\n",
    "\n",
    "        self.hiddens_decoder = [] #inicialização dos hiddens do decoder\n",
    "\n",
    "        self.attention_scores = []\n",
    "\n",
    "\n",
    "\n",
    "    def forward(self, inputs_id_encoder=None, input_id_decoder=None, decoder_hidden_state=None, attention_scores=None):\n",
    "        if decoder_hidden_state is None:\n",
    "            encoder_hidden_states, decoder_hidden_state = self.encoder(inputs_id_encoder)\n",
    "            self.hiddens_decoder = encoder_hidden_states\n",
    "\n",
    "\n",
    "        self.attention_scores = []\n",
    "        hidden_decoder = decoder_hidden_state[-1] # Pegamos o hidden da última camada do decoder\n",
    "\n",
    "        for i in range(len(self.hiddens_decoder)): # Para cada vetor no hidden\n",
    "            \n",
    "            q_vector = self.q(hidden_decoder)\n",
    "            k_vector = self.k(self.hiddens_decoder[i])\n",
    "            \n",
    "            attention_score = torch.dot(q_vector, k_vector)\n",
    "            self.attention_scores.append(attention_score)\n",
    "            \n",
    "\n",
    "        self.attention_scores = F.softmax(torch.stack(self.attention_scores), dim=0) # Softmax para obter os pesos do attention\n",
    "\n",
    "        attention_vec = torch.sum(self.attention_scores.unsqueeze(1) * self.v(self.hiddens_decoder), dim=0).unsqueeze(0) # Multiplica os pesos do attention com os hiddens do encoder\n",
    "\n",
    "\n",
    "        \n",
    "        output, hidden = self.decoder(input_id_decoder, decoder_hidden_state, attention=attention_vec)\n",
    "        output = self.fc_out(output)\n",
    "\n",
    "        return output, hidden"
   ],
   "metadata": {
    "id": "oUsBwoANaR12",
    "ExecuteTime": {
     "end_time": "2024-09-25T05:22:45.763399Z",
     "start_time": "2024-09-25T05:22:45.735464Z"
    }
   },
   "execution_count": 330,
   "outputs": []
  },
  {
   "metadata": {},
   "cell_type": "markdown",
   "source": "##### Alfabeto completo (modelo 1)"
  },
  {
   "metadata": {
    "ExecuteTime": {
     "end_time": "2024-09-25T05:23:28.854919Z",
     "start_time": "2024-09-25T05:23:28.849579Z"
    }
   },
   "cell_type": "code",
   "source": [
    "tokenizer = Tokenizer()\n",
    "\n",
    "inputs = [\n",
    "    \"a\", \"b\", \"c\", \"d\", \"e\", \"f\", \"g\", \"h\", \"i\", \"j\", \"k\", \"l\", \"m\",\n",
    "    \"n\", \"o\", \"p\", \"q\", \"r\", \"s\", \"t\", \"u\", \"v\", \"w\", \"x\", \"y\", \"z\"\n",
    "]\n",
    "\n",
    "outputs = [str(i + 1) for i, _ in enumerate(inputs)]\n",
    "\n",
    "tokenizer.add_input_vocab(inputs)\n",
    "tokenizer.add_output_vocab(outputs)\n",
    "input_vocab_size = tokenizer.len_vocab_input\n",
    "output_vocab_size = tokenizer.len_vocab_output"
   ],
   "execution_count": 332,
   "outputs": []
  },
  {
   "metadata": {
    "ExecuteTime": {
     "end_time": "2024-09-25T05:23:29.081249Z",
     "start_time": "2024-09-25T05:23:29.076504Z"
    }
   },
   "cell_type": "code",
   "source": [
    "emb_dim = 32\n",
    "hidden_dim = 32\n",
    "n_layers = 2\n",
    "dropout = 0.2\n",
    "learning_rate = 0.001\n",
    "num_steps = 5000\n",
    "\n",
    "model1 = Seq2Seq(input_vocab_size, output_vocab_size, emb_dim, hidden_dim, n_layers, dropout)\n",
    "model1"
   ],
   "execution_count": 333,
   "outputs": []
  },
  {
   "metadata": {
    "ExecuteTime": {
     "end_time": "2024-09-25T05:23:52.244711Z",
     "start_time": "2024-09-25T05:23:40.633356Z"
    }
   },
   "cell_type": "code",
   "source": [
    "criterion = nn.CrossEntropyLoss()\n",
    "optimizer = optim.Adam(model1.parameters(), lr=learning_rate)\n",
    "history = train(model1, tokenizer, criterion, optimizer, num_steps)"
   ],
   "execution_count": 334,
   "outputs": []
  },
  {
   "metadata": {
    "ExecuteTime": {
     "end_time": "2024-09-25T05:23:55.660372Z",
     "start_time": "2024-09-25T05:23:55.566852Z"
    }
   },
   "cell_type": "code",
   "source": "plot_loss(history)",
   "execution_count": 335,
   "outputs": []
  },
  {
   "metadata": {
    "ExecuteTime": {
     "end_time": "2024-09-25T05:24:20.459664Z",
     "start_time": "2024-09-25T05:24:20.454178Z"
    }
   },
   "cell_type": "code",
   "source": "test_model(model1, tokenizer, [\"d\", \"b\", \"c\"])",
   "execution_count": 337,
   "outputs": []
  },
  {
   "metadata": {},
   "cell_type": "markdown",
   "source": "##### Alfabeto até a letra \"f\" (modelo 2)"
  },
  {
   "metadata": {
    "ExecuteTime": {
     "end_time": "2024-09-25T05:25:14.653313Z",
     "start_time": "2024-09-25T05:25:14.647976Z"
    }
   },
   "cell_type": "code",
   "source": [
    "tokenizer = Tokenizer()\n",
    "\n",
    "inputs = [\n",
    "    \"a\", \"b\", \"c\", \"d\", \"e\", \"f\"\n",
    "]\n",
    "\n",
    "outputs = [str(i + 1) for i, _ in enumerate(inputs)]\n",
    "\n",
    "tokenizer.add_input_vocab(inputs)\n",
    "tokenizer.add_output_vocab(outputs)\n",
    "input_vocab_size = tokenizer.len_vocab_input\n",
    "output_vocab_size = tokenizer.len_vocab_output"
   ],
   "execution_count": 338,
   "outputs": []
  },
  {
   "metadata": {
    "ExecuteTime": {
     "end_time": "2024-09-25T05:25:14.842716Z",
     "start_time": "2024-09-25T05:25:14.837729Z"
    }
   },
   "cell_type": "code",
   "source": [
    "emb_dim = 32\n",
    "hidden_dim = 32\n",
    "n_layers = 2\n",
    "dropout = 0.2\n",
    "learning_rate = 0.001\n",
    "num_steps = 10000\n",
    "\n",
    "model2 = Seq2Seq(input_vocab_size, output_vocab_size, emb_dim, hidden_dim, n_layers, dropout)\n",
    "model2"
   ],
   "execution_count": 339,
   "outputs": []
  },
  {
   "metadata": {
    "ExecuteTime": {
     "end_time": "2024-09-25T05:25:51.112671Z",
     "start_time": "2024-09-25T05:25:27.718680Z"
    }
   },
   "cell_type": "code",
   "source": [
    "criterion = nn.CrossEntropyLoss()\n",
    "optimizer = optim.Adam(model2.parameters(), lr=learning_rate)\n",
    "history = train(model2, tokenizer, criterion, optimizer, num_steps)"
   ],
   "execution_count": 340,
   "outputs": []
  },
  {
   "metadata": {
    "ExecuteTime": {
     "end_time": "2024-09-25T05:26:02.276163Z",
     "start_time": "2024-09-25T05:26:02.120966Z"
    }
   },
   "cell_type": "code",
   "source": "plot_loss(history)",
   "execution_count": 341,
   "outputs": []
  },
  {
   "metadata": {
    "ExecuteTime": {
     "end_time": "2024-09-25T05:26:03.463492Z",
     "start_time": "2024-09-25T05:26:03.454095Z"
    }
   },
   "cell_type": "code",
   "source": "test_model(model2, tokenizer, [\"d\", \"b\", \"c\"])",
   "execution_count": 342,
   "outputs": []
  },
  {
   "metadata": {
    "ExecuteTime": {
     "end_time": "2024-09-25T05:26:51.625636Z",
     "start_time": "2024-09-25T05:26:50.987929Z"
    }
   },
   "cell_type": "code",
   "source": "plot_attention(model2, tokenizer, [\"a\", \"b\", \"c\"])",
   "execution_count": 344,
   "outputs": []
  },
  {
   "cell_type": "markdown",
   "source": [
    "#### **Questão 5**\n",
    "A partir das suas descobertas nas Questões 3 e 4,  explore a criação de duas novas classes: \"class BahdanauAttention\" (com a atenção de Bahdanau) e \"class WhatAttention\" (com a ??? Attention). Após criá-las, adicione à classe Seq2Seq. Insira um novo parâmetro na classe Seq2Seq para permitir escolher qual attention deve-se utilizar (attention_implementation=\"bahdanau\" para atenção de Bahdanau ou attention_implementation=\"qkv_attention\" para ??? Attention)\n",
    "\n",
    "> Dica: Observe a criação das classes Encoder e Decoder e como foram inseridas dentro da classe Seq2Seq"
   ],
   "metadata": {
    "id": "K1PUqTSyDN5p"
   }
  },
  {
   "metadata": {
    "ExecuteTime": {
     "end_time": "2024-09-25T05:40:32.782073Z",
     "start_time": "2024-09-25T05:40:32.776016Z"
    }
   },
   "cell_type": "code",
   "source": [
    "class BahdanauAttention(nn.Module):\n",
    "    def __init__(self, hidden_size):\n",
    "        super(BahdanauAttention, self).__init__()\n",
    "        self.hidden_size = hidden_size\n",
    "        \n",
    "    def forward(self, hidden, encoder_outputs):\n",
    "        attention_scores = []\n",
    "        \n",
    "        for i in range(len(encoder_outputs)):\n",
    "            attention_score = torch.dot(hidden, encoder_outputs[i])\n",
    "            attention_scores.append(attention_score)\n",
    "            \n",
    "        attention_scores = F.softmax(torch.stack(attention_scores), dim=0)\n",
    "        \n",
    "        attention_vec = torch.sum(attention_scores.unsqueeze(1) * encoder_outputs, dim=0).unsqueeze(0)\n",
    "        \n",
    "        return attention_vec, attention_scores\n"
   ],
   "execution_count": 394,
   "outputs": []
  },
  {
   "metadata": {
    "ExecuteTime": {
     "end_time": "2024-09-25T05:40:33.036841Z",
     "start_time": "2024-09-25T05:40:33.033505Z"
    }
   },
   "cell_type": "code",
   "source": [
    "class WhatAttention(nn.Module):\n",
    "    def __init__(self, hidden_size):\n",
    "        super(WhatAttention, self).__init__()\n",
    "        self.hidden_size = hidden_size\n",
    "        \n",
    "        self.q = nn.Linear(hidden_size, hidden_size)\n",
    "        self.k = nn.Linear(hidden_size, hidden_size)\n",
    "        self.v = nn.Linear(hidden_size, hidden_size)\n",
    "        \n",
    "    def forward(self, hidden, encoder_outputs):\n",
    "        attention_scores = []\n",
    "        \n",
    "        for i in range(len(encoder_outputs)):\n",
    "            q_vector = self.q(hidden)\n",
    "            k_vector = self.k(encoder_outputs[i])\n",
    "            \n",
    "            attention_score = torch.dot(q_vector, k_vector)\n",
    "            attention_scores.append(attention_score)\n",
    "            \n",
    "        attention_scores = F.softmax(torch.stack(attention_scores), dim=0)\n",
    "        \n",
    "        attention_vec = torch.sum(attention_scores.unsqueeze(1) * self.v(encoder_outputs), dim=0).unsqueeze(0)\n",
    "        \n",
    "        return attention_vec, attention_scores"
   ],
   "execution_count": 395,
   "outputs": []
  },
  {
   "metadata": {
    "ExecuteTime": {
     "end_time": "2024-09-25T05:41:42.730225Z",
     "start_time": "2024-09-25T05:41:42.705766Z"
    }
   },
   "cell_type": "code",
   "source": [
    "class Seq2Seq(nn.Module):\n",
    "    def __init__(self, input_vocab_size, output_vocab_size, emb_dim, hidden_dim, n_layers, dropout, attention_implementation=\"qkv_attention\", sos_id=0, eos_id=1):\n",
    "        super(Seq2Seq, self).__init__()\n",
    "        self.encoder = Encoder(input_vocab_size, emb_dim, hidden_dim, n_layers, dropout)\n",
    "        self.decoder = Decoder(output_vocab_size, emb_dim, hidden_dim, n_layers, dropout, use_attention=True)\n",
    "        self.fc_out = nn.Linear(hidden_dim, output_vocab_size)\n",
    "        self.encoder_hidden_states = []\n",
    "        \n",
    "        self.attention_scores = []\n",
    "        \n",
    "        if attention_implementation == \"bahdanau\":\n",
    "            self.attention = BahdanauAttention(hidden_dim)\n",
    "        elif attention_implementation == \"qkv_attention\":\n",
    "            self.attention = WhatAttention(hidden_dim)\n",
    "        else:\n",
    "            raise ValueError(\"Invalid attention implementation\")\n",
    "        \n",
    "    def forward(self, inputs_id_encoder=None, input_id_decoder=None, decoder_hidden_state=None, attention_scores=None):\n",
    "        if decoder_hidden_state is None:\n",
    "            encoder_hidden_states, decoder_hidden_state = self.encoder(inputs_id_encoder)\n",
    "            self.encoder_hidden_states = encoder_hidden_states\n",
    "        \n",
    "        hidden_decoder = decoder_hidden_state[-1]\n",
    "        \n",
    "        attention_vec, attention_scores = self.attention(hidden_decoder, self.encoder_hidden_states)\n",
    "        \n",
    "        self.attention_scores = attention_scores\n",
    "        output, hidden = self.decoder(input_id_decoder, decoder_hidden_state, attention=attention_vec)\n",
    "        output = self.fc_out(output)\n",
    "        \n",
    "        return output, hidden"
   ],
   "execution_count": 406,
   "outputs": []
  },
  {
   "metadata": {
    "ExecuteTime": {
     "end_time": "2024-09-25T05:41:42.965620Z",
     "start_time": "2024-09-25T05:41:42.962384Z"
    }
   },
   "cell_type": "code",
   "source": [
    "tokenizer = Tokenizer()\n",
    "\n",
    "inputs = [\n",
    "    \"a\", \"b\", \"c\", \"d\", \"e\", \"f\"\n",
    "]\n",
    "\n",
    "outputs = [str(i + 1) for i, _ in enumerate(inputs)]\n",
    "\n",
    "tokenizer.add_input_vocab(inputs)\n",
    "tokenizer.add_output_vocab(outputs)\n",
    "input_vocab_size = tokenizer.len_vocab_input\n",
    "output_vocab_size = tokenizer.len_vocab_output"
   ],
   "execution_count": 407,
   "outputs": []
  },
  {
   "metadata": {
    "ExecuteTime": {
     "end_time": "2024-09-25T05:41:43.196093Z",
     "start_time": "2024-09-25T05:41:43.189392Z"
    }
   },
   "cell_type": "code",
   "source": [
    "emb_dim = 32\n",
    "hidden_dim = 32\n",
    "n_layers = 2\n",
    "dropout = 0.2\n",
    "learning_rate = 0.001\n",
    "num_steps = 5000\n",
    "\n",
    "model1 = Seq2Seq(input_vocab_size, output_vocab_size, emb_dim, hidden_dim, n_layers, dropout)\n",
    "model1"
   ],
   "execution_count": 408,
   "outputs": []
  },
  {
   "metadata": {
    "ExecuteTime": {
     "end_time": "2024-09-25T05:41:55.186881Z",
     "start_time": "2024-09-25T05:41:43.304247Z"
    }
   },
   "cell_type": "code",
   "source": [
    "criterion = nn.CrossEntropyLoss()\n",
    "optimizer = optim.Adam(model1.parameters(), lr=learning_rate)\n",
    "history = train(model1, tokenizer, criterion, optimizer, num_steps)"
   ],
   "execution_count": 409,
   "outputs": []
  },
  {
   "metadata": {
    "ExecuteTime": {
     "end_time": "2024-09-25T05:41:55.207315Z",
     "start_time": "2024-09-25T05:41:55.203161Z"
    }
   },
   "cell_type": "code",
   "source": "test_model(model1, tokenizer, [\"d\", \"b\", \"c\"])",
   "execution_count": 410,
   "outputs": []
  },
  {
   "metadata": {
    "ExecuteTime": {
     "end_time": "2024-09-25T05:41:55.336805Z",
     "start_time": "2024-09-25T05:41:55.207926Z"
    }
   },
   "cell_type": "code",
   "source": "plot_attention(model1, tokenizer, [\"d\", \"b\", \"c\"])",
   "execution_count": 411,
   "outputs": []
  },
  {
   "metadata": {},
   "cell_type": "code",
   "execution_count": null,
   "source": "",
   "outputs": []
  },
  {
   "metadata": {},
   "cell_type": "code",
   "execution_count": null,
   "source": "",
   "outputs": []
  },
  {
   "metadata": {},
   "cell_type": "code",
   "execution_count": null,
   "source": "",
   "outputs": []
  },
  {
   "metadata": {},
   "cell_type": "code",
   "execution_count": null,
   "source": "",
   "outputs": []
  },
  {
   "metadata": {},
   "cell_type": "code",
   "execution_count": null,
   "source": "",
   "outputs": []
  },
  {
   "cell_type": "markdown",
   "source": [
    "#### **Comentários finais**\n",
    "\n",
    "- Relate aqui seus achados, dificuldades encontradas durante o processo, percepções sobre o tema, e demais comentários que gostaria de realizar."
   ],
   "metadata": {
    "id": "GUXalo56D9_D"
   }
  },
  {
   "cell_type": "markdown",
   "source": [
    "Comentários:"
   ],
   "metadata": {
    "id": "pMv2jnWVEK06"
   }
  }
 ]
}
